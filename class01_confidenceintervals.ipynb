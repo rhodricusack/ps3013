{
  "nbformat": 4,
  "nbformat_minor": 0,
  "metadata": {
    "colab": {
      "name": "class01_confidenceintervals.ipynb",
      "version": "0.3.2",
      "provenance": [],
      "collapsed_sections": [],
      "include_colab_link": true
    },
    "kernelspec": {
      "name": "python3",
      "display_name": "Python 3"
    }
  },
  "cells": [
    {
      "cell_type": "markdown",
      "metadata": {
        "id": "view-in-github",
        "colab_type": "text"
      },
      "source": [
        "<a href=\"https://colab.research.google.com/github/rhodricusack/ps3013/blob/master/class01_confidenceintervals.ipynb\" target=\"_parent\"><img src=\"https://colab.research.google.com/assets/colab-badge.svg\" alt=\"Open In Colab\"/></a>"
      ]
    },
    {
      "cell_type": "markdown",
      "metadata": {
        "id": "fvk9_MzaRISe",
        "colab_type": "text"
      },
      "source": [
        "# PS3013 Statistics and Methodology\n",
        "## Class 01\n",
        "###Confidence intervals\n",
        "Rhodri Cusack, Trinity College Dublin, 2019-09-09"
      ]
    },
    {
      "cell_type": "code",
      "metadata": {
        "id": "VBBTDaSMczou",
        "colab_type": "code",
        "colab": {}
      },
      "source": [
        "# measurements from our experiment\n",
        "meas = [10,11,12,13]\n"
      ],
      "execution_count": 0,
      "outputs": []
    },
    {
      "cell_type": "markdown",
      "metadata": {
        "id": "xH7A3LNpeGSK",
        "colab_type": "text"
      },
      "source": [
        "Let's calculate the mean"
      ]
    },
    {
      "cell_type": "code",
      "metadata": {
        "id": "lhDKsGNIiEVn",
        "colab_type": "code",
        "outputId": "08ee899e-be63-4aa5-a9f5-929d0c9f3981",
        "colab": {
          "base_uri": "https://localhost:8080/",
          "height": 35
        }
      },
      "source": [
        "from statistics import mean\n",
        "\n",
        "print(mean(meas))\n"
      ],
      "execution_count": 9,
      "outputs": [
        {
          "output_type": "stream",
          "text": [
            "11.5\n"
          ],
          "name": "stdout"
        }
      ]
    },
    {
      "cell_type": "markdown",
      "metadata": {
        "id": "3dH-UDv5iP8l",
        "colab_type": "text"
      },
      "source": [
        "What are the confidence intervals for this mean? "
      ]
    },
    {
      "cell_type": "code",
      "metadata": {
        "id": "iGD02B0QeH2M",
        "colab_type": "code",
        "outputId": "54a5892c-9d83-4888-d55d-80208484e7a8",
        "colab": {
          "base_uri": "https://localhost:8080/",
          "height": 35
        }
      },
      "source": [
        "import statsmodels.stats.api as sms\n",
        "\n",
        "sms.DescrStatsW(meas).tconfint_mean()\n"
      ],
      "execution_count": 10,
      "outputs": [
        {
          "output_type": "execute_result",
          "data": {
            "text/plain": [
              "(9.44573974323912, 13.55426025676088)"
            ]
          },
          "metadata": {
            "tags": []
          },
          "execution_count": 10
        }
      ]
    }
  ]
}