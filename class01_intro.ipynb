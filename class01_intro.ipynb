{
  "nbformat": 4,
  "nbformat_minor": 0,
  "metadata": {
    "colab": {
      "name": "class01_effectsizes.ipynb",
      "version": "0.3.2",
      "provenance": [],
      "collapsed_sections": [],
      "include_colab_link": true
    },
    "kernelspec": {
      "name": "python3",
      "display_name": "Python 3"
    }
  },
  "cells": [
    {
      "cell_type": "markdown",
      "metadata": {
        "id": "view-in-github",
        "colab_type": "text"
      },
      "source": [
        "<a href=\"https://colab.research.google.com/github/rhodricusack/ps3013/blob/master/class01_intro.ipynb\" target=\"_parent\"><img src=\"https://colab.research.google.com/assets/colab-badge.svg\" alt=\"Open In Colab\"/></a>"
      ]
    },
    {
      "cell_type": "markdown",
      "metadata": {
        "id": "fvk9_MzaRISe",
        "colab_type": "text"
      },
      "source": [
        "# PS3013 Statistics and Methodology\n",
        "## Class 01\n",
        "###Introduction\n",
        "Rhodri Cusack, Trinity College Dublin, 2019-09-09"
      ]
    },
    {
      "cell_type": "markdown",
      "metadata": {
        "id": "Jl0fEw1bTfDv",
        "colab_type": "text"
      },
      "source": [
        "Python has various built-in functions. For example, you can add two numbers and \"print\" the value to the display. Try running the following code by clicking the \"play\" arrow. You should see the output from the command appear below."
      ]
    },
    {
      "cell_type": "code",
      "metadata": {
        "id": "C6TGbO3TTolt",
        "colab_type": "code",
        "colab": {
          "base_uri": "https://localhost:8080/",
          "height": 35
        },
        "outputId": "f960baba-65ff-4a3d-b31b-9b542f68a38b"
      },
      "source": [
        "print(1+5)"
      ],
      "execution_count": 2,
      "outputs": [
        {
          "output_type": "stream",
          "text": [
            "6\n"
          ],
          "name": "stdout"
        }
      ]
    },
    {
      "cell_type": "markdown",
      "metadata": {
        "id": "tNLN6ZhgUr5_",
        "colab_type": "text"
      },
      "source": [
        "Next, try modifying the code above to calculate some other mathematical expression (* for multiply, / divide, ** for \"to the power of\"). Try running it.\n",
        "\n",
        "You may also store values in things called variables. The variable on the left-hand side of the equals takes the value of the thing on the right. "
      ]
    },
    {
      "cell_type": "code",
      "metadata": {
        "id": "47BWsiidUHd0",
        "colab_type": "code",
        "colab": {
          "base_uri": "https://localhost:8080/",
          "height": 69
        },
        "outputId": "a3fc09b1-480e-441d-de16-c06b84af4c32"
      },
      "source": [
        "a=1+3\n",
        "b=7\n",
        "print(b)\n",
        "print(a*b)\n",
        "print((a*b)**2)"
      ],
      "execution_count": 6,
      "outputs": [
        {
          "output_type": "stream",
          "text": [
            "7\n",
            "28\n",
            "784\n"
          ],
          "name": "stdout"
        }
      ]
    },
    {
      "cell_type": "markdown",
      "metadata": {
        "id": "WCpmqUOaWJz4",
        "colab_type": "text"
      },
      "source": [
        "The names of variables are arbitrary - although they can't start with a number or any strange character. When coding it is good practice to give them a meaningful name, so that other people (or yourself, later) can more easily understand the code.  \n",
        "\n",
        "Try changing one of the variable names above and re-running the code.\n",
        "\n",
        "You have to be precisely consistent across all of the places where you use a variable. Does it matter whether you use upper or lower case? Test it and see.\n"
      ]
    },
    {
      "cell_type": "markdown",
      "metadata": {
        "id": "YoUaGWpAbM2t",
        "colab_type": "text"
      },
      "source": [
        "\n",
        "What happens when you run the following code?"
      ]
    },
    {
      "cell_type": "code",
      "metadata": {
        "id": "PnR-QxFCWJRo",
        "colab_type": "code",
        "colab": {
          "base_uri": "https://localhost:8080/",
          "height": 132
        },
        "outputId": "b529f8ba-65ae-4164-f717-00cd85af1053"
      },
      "source": [
        "a=1+3\n",
        "print(a"
      ],
      "execution_count": 19,
      "outputs": [
        {
          "output_type": "error",
          "ename": "SyntaxError",
          "evalue": "ignored",
          "traceback": [
            "\u001b[0;36m  File \u001b[0;32m\"<ipython-input-19-f32250b85af7>\"\u001b[0;36m, line \u001b[0;32m2\u001b[0m\n\u001b[0;31m    print(a\u001b[0m\n\u001b[0m           ^\u001b[0m\n\u001b[0;31mSyntaxError\u001b[0m\u001b[0;31m:\u001b[0m unexpected EOF while parsing\n"
          ]
        }
      ]
    },
    {
      "cell_type": "markdown",
      "metadata": {
        "id": "xUKP14glWSNN",
        "colab_type": "text"
      },
      "source": [
        "Errors are a feature of programming. All programmers make errors, and then have to fix them - it is called \"debugging\". In fact, in large software companies, around half of the software engineers work checking the code of the other half.\n",
        "\n",
        "So, don't get dispirited if you make an error - just fix it. Can you fix the code above so that it runs?"
      ]
    },
    {
      "cell_type": "markdown",
      "metadata": {
        "id": "xakyNliVT8EX",
        "colab_type": "text"
      },
      "source": [
        "In the code above, the variables \"a\" and \"b\" stored single numbers. However variables can have many other \"data types\". For example, they can contain a whole list of numbers:\n",
        "\n"
      ]
    },
    {
      "cell_type": "code",
      "metadata": {
        "id": "C0RAXSp-blec",
        "colab_type": "code",
        "colab": {
          "base_uri": "https://localhost:8080/",
          "height": 35
        },
        "outputId": "aab25e1e-e3dc-46e5-d832-540343c970a6"
      },
      "source": [
        "mylist=[1,2,3,5,7]\n",
        "print(mylist)\n"
      ],
      "execution_count": 23,
      "outputs": [
        {
          "output_type": "stream",
          "text": [
            "[1, 2, 3, 5, 7]\n"
          ],
          "name": "stdout"
        }
      ]
    },
    {
      "cell_type": "markdown",
      "metadata": {
        "id": "KrDu1M_pacO1",
        "colab_type": "text"
      },
      "source": [
        "Often, we need functions beyond the built in ones. Here we're going to add two common statistical functions."
      ]
    },
    {
      "cell_type": "code",
      "metadata": {
        "id": "sfZb6WHTaNPR",
        "colab_type": "code",
        "colab": {
          "base_uri": "https://localhost:8080/",
          "height": 52
        },
        "outputId": "557438d8-89dc-4baa-fa4b-4656ffb8fe3d"
      },
      "source": [
        "from statistics import mean,stdev\n",
        "\n",
        "print(mean(mylist))\n",
        "c=stdev(mylist)\n",
        "print(c)"
      ],
      "execution_count": 24,
      "outputs": [
        {
          "output_type": "stream",
          "text": [
            "3.6\n",
            "2.4083189157584592\n"
          ],
          "name": "stdout"
        }
      ]
    },
    {
      "cell_type": "markdown",
      "metadata": {
        "id": "HgQOkstCcNBD",
        "colab_type": "text"
      },
      "source": [
        "What did these do?"
      ]
    },
    {
      "cell_type": "markdown",
      "metadata": {
        "id": "19Jz9DbocqBF",
        "colab_type": "text"
      },
      "source": [
        "### Effect sizes\n",
        "\n"
      ]
    },
    {
      "cell_type": "code",
      "metadata": {
        "id": "VBBTDaSMczou",
        "colab_type": "code",
        "colab": {}
      },
      "source": [
        "from statistics import mean, stdev\n",
        "from math import sqrt\n",
        "\n",
        "# measurements in our two conditions\n",
        "g1 = [2, 4, 7, 3, 7, 35, 8, 9, 10]\n",
        "g2 = [4, 8, 14, 6, 14, 70, 16, 18]\n",
        "\n",
        "n1 = len(g1)\n",
        "n2 = len(g2)"
      ],
      "execution_count": 0,
      "outputs": []
    },
    {
      "cell_type": "markdown",
      "metadata": {
        "id": "xH7A3LNpeGSK",
        "colab_type": "text"
      },
      "source": [
        "What are n1 and n2?"
      ]
    },
    {
      "cell_type": "markdown",
      "metadata": {
        "id": "W4TEQ3kSeOcx",
        "colab_type": "text"
      },
      "source": [
        "This is the code to calculate cohen's d. What does sqrt do?"
      ]
    },
    {
      "cell_type": "code",
      "metadata": {
        "id": "iGD02B0QeH2M",
        "colab_type": "code",
        "colab": {
          "base_uri": "https://localhost:8080/",
          "height": 52
        },
        "outputId": "39df31e7-271b-4fc7-d2ff-796b0712bc94"
      },
      "source": [
        "dof = n1 + n2 - 2\n",
        "\n",
        "cohensd= (mean(g1) - mean(g2)) / sqrt(((n1-1)*stdev(g1) ** 2 + (n2-1)* stdev(g2) ** 2) / dof)\n",
        "\n",
        "print(cohensd)\n"
      ],
      "execution_count": 47,
      "outputs": [
        {
          "output_type": "stream",
          "text": [
            "-0.5720156046660209\n",
            "-0.5596621094715237\n"
          ],
          "name": "stdout"
        }
      ]
    }
  ]
}